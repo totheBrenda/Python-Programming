{
  "nbformat": 4,
  "nbformat_minor": 0,
  "metadata": {
    "colab": {
      "provenance": [],
      "authorship_tag": "ABX9TyMMRLhO+Q9zGJhcp+MrU0hu",
      "include_colab_link": true
    },
    "kernelspec": {
      "name": "python3",
      "display_name": "Python 3"
    },
    "language_info": {
      "name": "python"
    }
  },
  "cells": [
    {
      "cell_type": "markdown",
      "metadata": {
        "id": "view-in-github",
        "colab_type": "text"
      },
      "source": [
        "<a href=\"https://colab.research.google.com/github/totheBrenda/KNOU/blob/main/20230315_pythonhw.ipynb\" target=\"_parent\"><img src=\"https://colab.research.google.com/assets/colab-badge.svg\" alt=\"Open In Colab\"/></a>"
      ]
    },
    {
      "cell_type": "markdown",
      "source": [
        "## 한국방송통신대학교 2023년 1학기 - 파이썬프로그래밍기초 출석수업 과제"
      ],
      "metadata": {
        "id": "xaWNzviLJaTt"
      }
    },
    {
      "cell_type": "markdown",
      "source": [
        "### 1. 임의의 두 정수를 입력받아 합을 구하는 프로그램을 완성하시오. "
      ],
      "metadata": {
        "id": "RPAigenzJQA1"
      }
    },
    {
      "cell_type": "code",
      "execution_count": null,
      "metadata": {
        "colab": {
          "base_uri": "https://localhost:8080/"
        },
        "id": "Af43ZpTRJv_T",
        "outputId": "1eec8137-4547-4910-e58d-aafaa5199db5"
      },
      "outputs": [
        {
          "output_type": "stream",
          "name": "stdout",
          "text": [
            " * 첫번째 정수를 입력하세요.aa\n",
            "잘못된 첫번째 값을 입력하였습니다. 다시 입력해주세요.\n",
            " * 첫번째 정수를 입력하세요.1.1\n",
            " *  1.1  은/는 정수가 아닙니다. 다시 입력해주세요.\n",
            " * 첫번째 정수를 입력하세요.1\n",
            " * 두번째 정수를 입력하세요.bb\n",
            "잘못된 두번째 값을 입력하였습니다. 다시 입력해주세요.\n",
            " * 두번째 정수를 입력하세요.2.2\n",
            " *  2.2  은/는 정수가 아닙니다. 다시 입력해주세요.\n",
            " * 두번째 정수를 입력하세요.2\n",
            " * 입력한 두 수  1 ,  2  의 합은  3  입니다.\n"
          ]
        }
      ],
      "source": [
        "check = 0\n",
        "while check == 0 :\n",
        "    try :\n",
        "        vINPUT1 = float(input(\" * 첫번째 정수를 입력하세요.\"))\n",
        "        if int(vINPUT1) == vINPUT1 :\n",
        "            vINPUT1 = int(vINPUT1)\n",
        "        if int(vINPUT1) != vINPUT1 :\n",
        "            print(\" * \", vINPUT1, \" 은/는 정수가 아닙니다. 다시 입력해주세요.\")\n",
        "            continue\n",
        "\n",
        "        while check == 0 :\n",
        "            try :\n",
        "                vINPUT2 = float(input(\" * 두번째 정수를 입력하세요.\"))\n",
        "                if int(vINPUT2) == vINPUT2 :\n",
        "                    vINPUT2 = int(vINPUT2)\n",
        "                if int(vINPUT2) != vINPUT2 :\n",
        "                    print(\" * \", vINPUT2, \" 은/는 정수가 아닙니다. 다시 입력해주세요.\")\n",
        "                    continue\n",
        "\n",
        "                vSUM = vINPUT1 + vINPUT2\n",
        "                print(\" * 입력한 두 수 \", vINPUT1, \", \", vINPUT2, \" 의 합은 \", vSUM, \" 입니다.\")\n",
        "                check = 1\n",
        "\n",
        "            except :\n",
        "              print(\"잘못된 두번째 값을 입력하였습니다. 다시 입력해주세요.\")\n",
        "    except :\n",
        "        print(\"잘못된 첫번째 값을 입력하였습니다. 다시 입력해주세요.\")"
      ]
    },
    {
      "cell_type": "markdown",
      "source": [
        "### 2. 임의의 수를 입력 받아 짝수인지 홀수인지 구별하는 프로그램을 완성하시오. "
      ],
      "metadata": {
        "id": "NwnZb6KbJTN7"
      }
    },
    {
      "cell_type": "code",
      "source": [
        "check = 0\n",
        "while check == 0 :\n",
        "    try :\n",
        "        vINPUT1 = float(input(\" * 10진 정수를 입력하세요.\"))\n",
        "        if int(vINPUT1) == vINPUT1 :\n",
        "            vINPUT1 = int(vINPUT1)\n",
        "            \n",
        "            if vINPUT1 % 2 == 0 :\n",
        "                print (\" * 입력한 수 \", vINPUT1, \" 은/는 짝수입니다.\")\n",
        "                check = 1\n",
        "            elif vINPUT1 % 2 == 1 :\n",
        "                print (\" * 입력한 수 \", vINPUT1, \" 은/는 홀수입니다.\")\n",
        "                check = 1\n",
        "        else :\n",
        "            print( \" * 입력한 수 \", vINPUT1, \" 은/는 정수가 아닙니다. 다시 입력해주세요.\")\n",
        "\n",
        "    except :\n",
        "        print(\"잘못된 값을 입력하였습니다. 다시 입력해주세요.\")"
      ],
      "metadata": {
        "colab": {
          "base_uri": "https://localhost:8080/"
        },
        "id": "8eok3xPfQ4g7",
        "outputId": "eee3b3a1-4b46-4078-950b-3039e2289b9b"
      },
      "execution_count": null,
      "outputs": [
        {
          "output_type": "stream",
          "name": "stdout",
          "text": [
            " * 10진 정수를 입력하세요.7.0\n",
            " * 입력한 수  7  은/는 홀수입니다.\n"
          ]
        }
      ]
    },
    {
      "cell_type": "markdown",
      "source": [
        "### 3. 10진 정수을 점수로 입력받아 학점을 출력하는 프로그램을 완성하시오."
      ],
      "metadata": {
        "id": "7yzhEYZyMCdB"
      }
    },
    {
      "cell_type": "markdown",
      "source": [
        "[학점의 조건] 90점 이상 A, 89\\~80점 B, 79\\~70점 C, 69\\~60점 D, 60점 미만은 F"
      ],
      "metadata": {
        "id": "1Fb_CwKwOaEO"
      }
    },
    {
      "cell_type": "code",
      "source": [
        "check = 0\n",
        "while check == 0 :\n",
        "    try :\n",
        "        vINPUT1 = float(input(\" * 점수를 입력하세요.\"))\n",
        "        if int(vINPUT1) == vINPUT1 :\n",
        "            vINPUT1 = int(vINPUT1)\n",
        "            \n",
        "            if 100 < vINPUT1:\n",
        "                print(\"잘못된 값을 입력하였습니다. 다시 입력해주세요.\")\n",
        "            elif 90 <= vINPUT1 <= 100:\n",
        "                print (\" * 당신의 학점 \", vINPUT1, \"점은 A 입니다.\")\n",
        "                check = 1\n",
        "            elif 80 <= vINPUT1 < 90 :\n",
        "                print (\" * 당신의 학점 \", vINPUT1, \"점은 B 입니다.\")\n",
        "                check = 1\n",
        "            elif 70 <= vINPUT1 < 80 :\n",
        "                print (\" * 당신의 학점 \", vINPUT1, \"점은 C 입니다.\")\n",
        "                check = 1\n",
        "            elif 60 <= vINPUT1 < 70 :\n",
        "                print (\" * 당신의 학점 \", vINPUT1, \"점은 D 입니다.\")\n",
        "                check = 1\n",
        "            elif 0 <= vINPUT1 < 60 :\n",
        "                print (\" * 당신의 학점 \", vINPUT1, \"점은 F 입니다.\")\n",
        "                check = 1\n",
        "            elif vINPUT1 < 0:\n",
        "                print(\"잘못된 값을 입력하였습니다. 다시 입력해주세요.\")\n",
        "        else :\n",
        "            print( \" * 입력한 수 \", vINPUT1, \" 은/는 정수가 아닙니다. 다시 입력해주세요.\")\n",
        "    except :\n",
        "        print(\"잘못된 값을 입력하였습니다. 다시 입력해주세요.\")"
      ],
      "metadata": {
        "colab": {
          "base_uri": "https://localhost:8080/"
        },
        "id": "ZMU9NWJxW6tT",
        "outputId": "bb001913-15c6-44a4-f8ba-a53570d91eec"
      },
      "execution_count": null,
      "outputs": [
        {
          "output_type": "stream",
          "name": "stdout",
          "text": [
            " * 점수를 입력하세요.-1\n",
            "잘못된 값을 입력하였습니다. 다시 입력해주세요.\n",
            " * 점수를 입력하세요.60\n",
            " * 당신의 학점  60 점은 D 입니다.\n"
          ]
        }
      ]
    },
    {
      "cell_type": "markdown",
      "source": [
        "### 4. 아래 코드는 원뿔을 계산하는 프로그램의 일부분이다. 정상적으로 수행되지 않은 이유를 기술하시오."
      ],
      "metadata": {
        "id": "TsaycrYaM_zH"
      }
    },
    {
      "cell_type": "code",
      "source": [
        "rad = input(\"반지름을 입력하세요:\")\n",
        "hei = input(\"높이를 입력하세요:\")\n",
        "vol = 1/3 * 3.14 * rad ** 2 * hei"
      ],
      "metadata": {
        "colab": {
          "base_uri": "https://localhost:8080/",
          "height": 248
        },
        "id": "Zi-WiwIHOi2R",
        "outputId": "8e40dbfd-1278-4069-d480-e9601c198972"
      },
      "execution_count": 1,
      "outputs": [
        {
          "name": "stdout",
          "output_type": "stream",
          "text": [
            "반지름을 입력하세요:2\n",
            "높이를 입력하세요:5\n"
          ]
        },
        {
          "output_type": "error",
          "ename": "TypeError",
          "evalue": "ignored",
          "traceback": [
            "\u001b[0;31m---------------------------------------------------------------------------\u001b[0m",
            "\u001b[0;31mTypeError\u001b[0m                                 Traceback (most recent call last)",
            "\u001b[0;32m<ipython-input-1-02ad6213fadb>\u001b[0m in \u001b[0;36m<module>\u001b[0;34m\u001b[0m\n\u001b[1;32m      1\u001b[0m \u001b[0mrad\u001b[0m \u001b[0;34m=\u001b[0m \u001b[0minput\u001b[0m\u001b[0;34m(\u001b[0m\u001b[0;34m\"반지름을 입력하세요:\"\u001b[0m\u001b[0;34m)\u001b[0m\u001b[0;34m\u001b[0m\u001b[0;34m\u001b[0m\u001b[0m\n\u001b[1;32m      2\u001b[0m \u001b[0mhei\u001b[0m \u001b[0;34m=\u001b[0m \u001b[0minput\u001b[0m\u001b[0;34m(\u001b[0m\u001b[0;34m\"높이를 입력하세요:\"\u001b[0m\u001b[0;34m)\u001b[0m\u001b[0;34m\u001b[0m\u001b[0;34m\u001b[0m\u001b[0m\n\u001b[0;32m----> 3\u001b[0;31m \u001b[0mvol\u001b[0m \u001b[0;34m=\u001b[0m \u001b[0;36m1\u001b[0m\u001b[0;34m/\u001b[0m\u001b[0;36m3\u001b[0m \u001b[0;34m*\u001b[0m \u001b[0;36m3.14\u001b[0m \u001b[0;34m*\u001b[0m \u001b[0mrad\u001b[0m \u001b[0;34m**\u001b[0m \u001b[0;36m2\u001b[0m \u001b[0;34m*\u001b[0m \u001b[0mhei\u001b[0m\u001b[0;34m\u001b[0m\u001b[0;34m\u001b[0m\u001b[0m\n\u001b[0m",
            "\u001b[0;31mTypeError\u001b[0m: unsupported operand type(s) for ** or pow(): 'str' and 'int'"
          ]
        }
      ]
    },
    {
      "cell_type": "markdown",
      "source": [
        " - 파이썬에서 input()함수를 사용했을 때에는 기본적으로 입력값을 문자열(string)로 인식한다.<br>\n",
        "   그래서 input한 값에 int 또는 float를 씌워줘야 숫자로 인식하여 vol을 계산할 수 있다."
      ],
      "metadata": {
        "id": "MF9GCTalNewE"
      }
    },
    {
      "cell_type": "code",
      "source": [
        "rad = float(input(\"반지름을 입력하세요:\"))\n",
        "hei = float(input(\"높이를 입력하세요:\"))\n",
        "vol = 1/3 * 3.14 * rad ** 2 * hei\n",
        "print(vol)"
      ],
      "metadata": {
        "colab": {
          "base_uri": "https://localhost:8080/"
        },
        "id": "iLwWEmAubBuX",
        "outputId": "3d652b28-916f-4ef9-e33a-8d38f7662eb6"
      },
      "execution_count": null,
      "outputs": [
        {
          "output_type": "stream",
          "name": "stdout",
          "text": [
            "반지름을 입력하세요:3\n",
            "높이를 입력하세요:1\n",
            "9.42\n"
          ]
        }
      ]
    },
    {
      "cell_type": "markdown",
      "source": [
        "### 5. 10진법 254을 8비트 2진법으로 변환한 결과를 기술하시오."
      ],
      "metadata": {
        "id": "OrtDXtVxJMrI"
      }
    },
    {
      "cell_type": "markdown",
      "source": [
        " - 11111110"
      ],
      "metadata": {
        "id": "2nERotljNthe"
      }
    },
    {
      "cell_type": "markdown",
      "source": [
        "### 6. 하드웨어 구성 요소를 폰 노이만 구조에 따라 구분하여 기술하고 각 요소를 간략히 설명하시오. "
      ],
      "metadata": {
        "id": "vVGDTeRCN4D5"
      }
    },
    {
      "cell_type": "markdown",
      "source": [
        "(1)\t입력장치<br>\n",
        "명령이나 데이터를 CPU나 메인메모리(컴퓨터)로 입력할 때 사용하는 장치.<br>\n",
        "키보드, 마우스, 스캐너, 조이스틱, 동작인식 기기 등이 있다.<br><br>\n",
        "(2)\t기억/저장장치<br>\n",
        "프로그램, 데이터 등을 기억/저장하는 하드웨어.<br>\n",
        "주기억장치(ROM, RAM), 보조기억장치(USB, 디스크…) 등이 있다.<br><br>\n",
        "(3)\t제어 장치<br>\n",
        "명령어가 순서대로 실행되도록 제어하는 장치.<br>\n",
        "명령어를 해독하여 명령어 수행에 필요한 신호를 생성한다.<br>\n",
        "중앙처리장치 내부의 다른 모듈, 외부 장치의 제어를 담당한다.<br><br>\n",
        "(4)\t연산 장치<br>\n",
        "중앙처리장치 내부에서 실제 연산을 담당하는 장치.<br>\n",
        "산술 연산, 논리 연산 등을 수행한다.<br>\n",
        "4-1) 산술 연산 :덧셈, 뺄셈, 곱셈, 나눗셈 등 사칙 연산.<br>\n",
        "4-2) 논리 연산 : 논리 회로를 통해 논리곱(AND), 논리합(OR), 부정(NOT) 등의 연산.<br><br>\n",
        "(5)\t출력 장치<br>\n",
        "CPU나 메인메모리(컴퓨터)의 정보처리 결과를 인간이 알아볼 수 있는 형태로 내보내는 장치.<br>\n",
        "2진수 형태의 데이터를 문자, 숫자, 도형, 음성, 영상 등으로 변환시킴.<br>\n",
        "모니터, 프린터, 스피커 등이 있다.<br>"
      ],
      "metadata": {
        "id": "fZ9scO8yN2kn"
      }
    }
  ]
}